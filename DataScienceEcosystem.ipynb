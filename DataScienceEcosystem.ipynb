{
 "cells": [
  {
   "cell_type": "markdown",
   "id": "99572acc-9d67-4e96-a885-6509ccf59d1d",
   "metadata": {},
   "source": [
    "# Science tools and Ecosystem"
   ]
  },
  {
   "cell_type": "markdown",
   "id": "d8b76c98-8a1d-4d9d-98f8-4a9288f2acce",
   "metadata": {},
   "source": [
    "This is our Intro!!!!"
   ]
  },
  {
   "cell_type": "markdown",
   "id": "e63fa737-21c9-4491-b68e-79013ee1fe2b",
   "metadata": {
    "tags": []
   },
   "source": [
    "**Objectives**\n",
    "* Getting to know R\n",
    "* Getting to know Git\n",
    "* Getting to know Python"
   ]
  },
  {
   "cell_type": "markdown",
   "id": "8454813c-34f8-4f33-bddf-940f3c5e3b88",
   "metadata": {
    "tags": []
   },
   "source": [
    "Some of popoular languages:\n",
    "* R\n",
    "* Python\n",
    "* Matlab"
   ]
  },
  {
   "cell_type": "markdown",
   "id": "39447ac7-cbdf-45b7-af04-d8cf44604c54",
   "metadata": {},
   "source": [
    "Some of Common libraries:\n",
    "* Matplotlib\n",
    "* Tensorflow\n",
    "* Pytorch"
   ]
  },
  {
   "cell_type": "markdown",
   "id": "c83f5fbb-33ac-458a-a61c-3c0116c376a3",
   "metadata": {},
   "source": [
    "|Data Science tools| \n",
    "|--- |\n",
    "|Git |\n",
    "|Jupyter|\n",
    "|RStudio|"
   ]
  },
  {
   "cell_type": "markdown",
   "id": "4fa5384c-e06a-4723-b33a-f2abbc6b7413",
   "metadata": {},
   "source": [
    "### Below are few examples"
   ]
  },
  {
   "cell_type": "markdown",
   "id": "300061f4-7a69-425d-8206-a73c4d178dfd",
   "metadata": {},
   "source": [
    "multiplication and then adding"
   ]
  },
  {
   "cell_type": "code",
   "execution_count": 2,
   "id": "ce02f631-37e9-4cd8-8cae-165745f6204b",
   "metadata": {
    "tags": []
   },
   "outputs": [
    {
     "data": {
      "text/plain": [
       "17"
      ]
     },
     "execution_count": 2,
     "metadata": {},
     "output_type": "execute_result"
    }
   ],
   "source": [
    "(3*4)+5"
   ]
  },
  {
   "cell_type": "markdown",
   "id": "e1d3dd5b-cf19-49ff-bc73-cdcfddd11466",
   "metadata": {},
   "source": [
    "The following will  convert 200 minutes to hour"
   ]
  },
  {
   "cell_type": "code",
   "execution_count": 3,
   "id": "6e65c7ac-5ae2-4396-b92b-171bea0051df",
   "metadata": {
    "tags": []
   },
   "outputs": [
    {
     "data": {
      "text/plain": [
       "3.3333333333333335"
      ]
     },
     "execution_count": 3,
     "metadata": {},
     "output_type": "execute_result"
    }
   ],
   "source": [
    "200/60"
   ]
  },
  {
   "cell_type": "markdown",
   "id": "43c7d0eb-06df-4c6a-a64c-47abce9d885b",
   "metadata": {},
   "source": [
    "## Author\n",
    "Milad Zeraatpisheh"
   ]
  },
  {
   "cell_type": "code",
   "execution_count": null,
   "id": "5f2b538a-034e-4ee0-bb25-446ae454ef1e",
   "metadata": {},
   "outputs": [],
   "source": []
  }
 ],
 "metadata": {
  "kernelspec": {
   "display_name": "Python",
   "language": "python",
   "name": "conda-env-python-py"
  },
  "language_info": {
   "codemirror_mode": {
    "name": "ipython",
    "version": 3
   },
   "file_extension": ".py",
   "mimetype": "text/x-python",
   "name": "python",
   "nbconvert_exporter": "python",
   "pygments_lexer": "ipython3",
   "version": "3.7.12"
  }
 },
 "nbformat": 4,
 "nbformat_minor": 5
}
